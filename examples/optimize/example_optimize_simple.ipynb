{
 "cells": [
  {
   "cell_type": "code",
   "execution_count": 1,
   "id": "4fb1d6e1",
   "metadata": {},
   "outputs": [],
   "source": [
    "# --- Load Functions ---\n",
    "from simple_trade import download_data\n",
    "from simple_trade.premade_optimizer import premade_optimizer\n",
    "from simple_trade.plot_test import BacktestPlotter\n",
    "import pandas as pd"
   ]
  },
  {
   "cell_type": "code",
   "execution_count": 2,
   "id": "cbce4668",
   "metadata": {},
   "outputs": [],
   "source": [
    "# --- Configuration ---\n",
    "ticker = 'SPY'\n",
    "start_date = '2020-01-01'\n",
    "end_date = '2024-12-31'"
   ]
  },
  {
   "cell_type": "code",
   "execution_count": 3,
   "id": "c54c8703",
   "metadata": {},
   "outputs": [],
   "source": [
    "data = download_data(ticker, start_date, end_date)"
   ]
  },
  {
   "cell_type": "code",
   "execution_count": 4,
   "id": "adf3e772",
   "metadata": {},
   "outputs": [],
   "source": [
    "# Define parameter grid for RSI strategy\n",
    "rsi_param_grid = {\n",
    "    'window': [10, 14, 20],           # RSI window periods\n",
    "    'upper': [70, 75, 80],            # Upper threshold values\n",
    "    'lower': [20, 25, 30]             # Lower threshold values\n",
    "}"
   ]
  },
  {
   "cell_type": "code",
   "execution_count": 5,
   "id": "6649552c",
   "metadata": {},
   "outputs": [],
   "source": [
    "# Base parameters for RSI strategy\n",
    "rsi_base_params = {\n",
    "    'initial_cash': 100000.0,\n",
    "    'commission_long': 0.001,         # 0.1% commission\n",
    "    'commission_short': 0.001,\n",
    "    'trading_type': 'long',           # Only long trades\n",
    "    'day1_position': 'none',\n",
    "    'risk_free_rate': 0.02,\n",
    "    'metric': 'total_return_pct',     # Metric to optimize\n",
    "    'maximize': True,                 # Maximize the metric\n",
    "    'parallel': False,                # Sequential execution for this example\n",
    "    'fig_control': 0                  # No plotting during optimization\n",
    "}\n"
   ]
  },
  {
   "cell_type": "code",
   "execution_count": 6,
   "id": "8e5098d4",
   "metadata": {},
   "outputs": [
    {
     "name": "stdout",
     "output_type": "stream",
     "text": [
      "\n",
      "Running RSI optimization...\n",
      "Generated 27 parameter combinations.\n",
      "Starting optimization for 27 combinations...\n",
      "Metric: total_return_pct (Maximize) | Parallel: False\n",
      "  Testing combination 1/27: {'window': 10, 'upper': 70, 'lower': 20}\n",
      "Computing RSI...\n",
      "  Testing combination 2/27: {'window': 10, 'upper': 70, 'lower': 25}\n",
      "Computing RSI...\n",
      "  Testing combination 3/27: {'window': 10, 'upper': 70, 'lower': 30}\n",
      "Computing RSI...\n",
      "  Testing combination 4/27: {'window': 10, 'upper': 75, 'lower': 20}\n",
      "Computing RSI...\n",
      "  Testing combination 5/27: {'window': 10, 'upper': 75, 'lower': 25}\n",
      "Computing RSI...\n",
      "  Testing combination 6/27: {'window': 10, 'upper': 75, 'lower': 30}\n",
      "Computing RSI...\n",
      "  Testing combination 7/27: {'window': 10, 'upper': 80, 'lower': 20}\n",
      "Computing RSI...\n",
      "  Testing combination 8/27: {'window': 10, 'upper': 80, 'lower': 25}\n",
      "Computing RSI...\n",
      "  Testing combination 9/27: {'window': 10, 'upper': 80, 'lower': 30}\n",
      "Computing RSI...\n",
      "  Testing combination 10/27: {'window': 14, 'upper': 70, 'lower': 20}\n",
      "Computing RSI...\n",
      "  Testing combination 11/27: {'window': 14, 'upper': 70, 'lower': 25}\n",
      "Computing RSI...\n",
      "  Testing combination 12/27: {'window': 14, 'upper': 70, 'lower': 30}\n",
      "Computing RSI...\n",
      "  Testing combination 13/27: {'window': 14, 'upper': 75, 'lower': 20}\n",
      "Computing RSI...\n",
      "  Testing combination 14/27: {'window': 14, 'upper': 75, 'lower': 25}\n",
      "Computing RSI...\n",
      "  Testing combination 15/27: {'window': 14, 'upper': 75, 'lower': 30}\n",
      "Computing RSI...\n",
      "  Testing combination 16/27: {'window': 14, 'upper': 80, 'lower': 20}\n",
      "Computing RSI...\n",
      "  Testing combination 17/27: {'window': 14, 'upper': 80, 'lower': 25}\n",
      "Computing RSI...\n",
      "  Testing combination 18/27: {'window': 14, 'upper': 80, 'lower': 30}\n",
      "Computing RSI...\n",
      "  Testing combination 19/27: {'window': 20, 'upper': 70, 'lower': 20}\n",
      "Computing RSI...\n",
      "  Testing combination 20/27: {'window': 20, 'upper': 70, 'lower': 25}\n",
      "Computing RSI...\n",
      "  Testing combination 21/27: {'window': 20, 'upper': 70, 'lower': 30}\n",
      "Computing RSI...\n",
      "  Testing combination 22/27: {'window': 20, 'upper': 75, 'lower': 20}\n",
      "Computing RSI...\n",
      "  Testing combination 23/27: {'window': 20, 'upper': 75, 'lower': 25}\n",
      "Computing RSI...\n",
      "  Testing combination 24/27: {'window': 20, 'upper': 75, 'lower': 30}\n",
      "Computing RSI...\n",
      "  Testing combination 25/27: {'window': 20, 'upper': 80, 'lower': 20}\n",
      "Computing RSI...\n",
      "  Testing combination 26/27: {'window': 20, 'upper': 80, 'lower': 25}\n",
      "Computing RSI...\n",
      "  Testing combination 27/27: {'window': 20, 'upper': 80, 'lower': 30}\n",
      "Computing RSI...\n",
      "\n",
      "Optimization finished.\n",
      "Best score (total_return_pct): 58.5600\n",
      "Best parameters: {'window': 14, 'upper': 75, 'lower': 25}\n"
     ]
    }
   ],
   "source": [
    "print(\"\\nRunning RSI optimization...\")\n",
    "rsi_best_results, rsi_best_params, rsi_all_results = premade_optimizer(\n",
    "    data=data,\n",
    "    strategy_name='rsi',\n",
    "    parameters=rsi_base_params,\n",
    "    param_grid=rsi_param_grid\n",
    ")"
   ]
  },
  {
   "cell_type": "code",
   "execution_count": 7,
   "id": "1215f5de",
   "metadata": {},
   "outputs": [
    {
     "name": "stdout",
     "output_type": "stream",
     "text": [
      "\n",
      "Top 3 RSI Parameter Combinations:\n",
      "  1. {'window': 14, 'upper': 75, 'lower': 25} -> 58.56%\n",
      "  2. {'window': 14, 'upper': 75, 'lower': 30} -> 50.95%\n",
      "  3. {'window': 20, 'upper': 80, 'lower': 30} -> 48.33%\n"
     ]
    }
   ],
   "source": [
    "# Show top 3 parameter combinations\n",
    "print(\"\\nTop 3 RSI Parameter Combinations:\")\n",
    "sorted_rsi = sorted(rsi_all_results, key=lambda x: x['score'], reverse=True)\n",
    "for i, result in enumerate(sorted_rsi[:3]):\n",
    "    print(f\"  {i+1}. {result['params']} -> {result['score']:.2f}%\")"
   ]
  }
 ],
 "metadata": {
  "kernelspec": {
   "display_name": "myenv",
   "language": "python",
   "name": "python3"
  },
  "language_info": {
   "codemirror_mode": {
    "name": "ipython",
    "version": 3
   },
   "file_extension": ".py",
   "mimetype": "text/x-python",
   "name": "python",
   "nbconvert_exporter": "python",
   "pygments_lexer": "ipython3",
   "version": "3.11.4"
  }
 },
 "nbformat": 4,
 "nbformat_minor": 5
}
